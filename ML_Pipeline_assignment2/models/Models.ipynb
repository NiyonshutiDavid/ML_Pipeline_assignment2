{
  "nbformat": 4,
  "nbformat_minor": 0,
  "metadata": {
    "colab": {
      "provenance": []
    },
    "kernelspec": {
      "name": "python3",
      "display_name": "Python 3"
    },
    "language_info": {
      "name": "python"
    }
  },
  "cells": [
    {
      "cell_type": "markdown",
      "source": [
        "##The Facial Recognition Model\n"
      ],
      "metadata": {
        "id": "rEkfGLHTEUG8"
      }
    },
    {
      "cell_type": "code",
      "execution_count": 16,
      "metadata": {
        "colab": {
          "base_uri": "https://localhost:8080/"
        },
        "id": "U3iVLeJBBQN6",
        "outputId": "d6ae0f5b-415d-4fea-db7e-41dd15004737"
      },
      "outputs": [
        {
          "output_type": "stream",
          "name": "stdout",
          "text": [
            "  member expression augmentation        feat_0    feat_1    feat_2    feat_3  \\\n",
            "0  david    neutral     original  3.908344e-06  0.000261  0.001713  0.003812   \n",
            "1  david    neutral      rotated  3.908344e-06  0.000261  0.001713  0.003812   \n",
            "2  david    neutral      flipped  3.908344e-06  0.000261  0.001713  0.003812   \n",
            "3  david    neutral    grayscale  1.395837e-07  0.000083  0.002578  0.008346   \n",
            "4  david      smile     original  4.299178e-05  0.000831  0.002449  0.008304   \n",
            "\n",
            "     feat_4    feat_5    feat_6  ...   feat_86   feat_87   feat_88   feat_89  \\\n",
            "0  0.015205  0.027483  0.018210  ...  0.001355  0.001092  0.000992  0.000874   \n",
            "1  0.015205  0.027483  0.018210  ...  0.001355  0.001092  0.000992  0.000874   \n",
            "2  0.015205  0.027483  0.018210  ...  0.001355  0.001092  0.000992  0.000874   \n",
            "3  0.024398  0.074433  0.068416  ...       NaN       NaN       NaN       NaN   \n",
            "4  0.027262  0.021193  0.010250  ...  0.001102  0.001067  0.000954  0.000813   \n",
            "\n",
            "    feat_90   feat_91   feat_92   feat_93   feat_94   feat_95  \n",
            "0  0.000737  0.000729  0.001071  0.003056  0.007471  0.180818  \n",
            "1  0.000737  0.000729  0.001071  0.003056  0.007471  0.180818  \n",
            "2  0.000737  0.000729  0.001071  0.003056  0.007471  0.180818  \n",
            "3       NaN       NaN       NaN       NaN       NaN       NaN  \n",
            "4  0.000981  0.001821  0.004935  0.008417  0.014734  0.165581  \n",
            "\n",
            "[5 rows x 99 columns]\n",
            "<class 'pandas.core.frame.DataFrame'>\n",
            "RangeIndex: 60 entries, 0 to 59\n",
            "Data columns (total 99 columns):\n",
            " #   Column        Non-Null Count  Dtype  \n",
            "---  ------        --------------  -----  \n",
            " 0   member        60 non-null     object \n",
            " 1   expression    60 non-null     object \n",
            " 2   augmentation  60 non-null     object \n",
            " 3   feat_0        60 non-null     float64\n",
            " 4   feat_1        60 non-null     float64\n",
            " 5   feat_2        60 non-null     float64\n",
            " 6   feat_3        60 non-null     float64\n",
            " 7   feat_4        60 non-null     float64\n",
            " 8   feat_5        60 non-null     float64\n",
            " 9   feat_6        60 non-null     float64\n",
            " 10  feat_7        60 non-null     float64\n",
            " 11  feat_8        60 non-null     float64\n",
            " 12  feat_9        60 non-null     float64\n",
            " 13  feat_10       60 non-null     float64\n",
            " 14  feat_11       60 non-null     float64\n",
            " 15  feat_12       60 non-null     float64\n",
            " 16  feat_13       60 non-null     float64\n",
            " 17  feat_14       60 non-null     float64\n",
            " 18  feat_15       60 non-null     float64\n",
            " 19  feat_16       60 non-null     float64\n",
            " 20  feat_17       60 non-null     float64\n",
            " 21  feat_18       60 non-null     float64\n",
            " 22  feat_19       60 non-null     float64\n",
            " 23  feat_20       60 non-null     float64\n",
            " 24  feat_21       60 non-null     float64\n",
            " 25  feat_22       60 non-null     float64\n",
            " 26  feat_23       60 non-null     float64\n",
            " 27  feat_24       60 non-null     float64\n",
            " 28  feat_25       60 non-null     float64\n",
            " 29  feat_26       60 non-null     float64\n",
            " 30  feat_27       60 non-null     float64\n",
            " 31  feat_28       60 non-null     float64\n",
            " 32  feat_29       60 non-null     float64\n",
            " 33  feat_30       60 non-null     float64\n",
            " 34  feat_31       60 non-null     float64\n",
            " 35  feat_32       45 non-null     float64\n",
            " 36  feat_33       45 non-null     float64\n",
            " 37  feat_34       45 non-null     float64\n",
            " 38  feat_35       45 non-null     float64\n",
            " 39  feat_36       45 non-null     float64\n",
            " 40  feat_37       45 non-null     float64\n",
            " 41  feat_38       45 non-null     float64\n",
            " 42  feat_39       45 non-null     float64\n",
            " 43  feat_40       45 non-null     float64\n",
            " 44  feat_41       45 non-null     float64\n",
            " 45  feat_42       45 non-null     float64\n",
            " 46  feat_43       45 non-null     float64\n",
            " 47  feat_44       45 non-null     float64\n",
            " 48  feat_45       45 non-null     float64\n",
            " 49  feat_46       45 non-null     float64\n",
            " 50  feat_47       45 non-null     float64\n",
            " 51  feat_48       45 non-null     float64\n",
            " 52  feat_49       45 non-null     float64\n",
            " 53  feat_50       45 non-null     float64\n",
            " 54  feat_51       45 non-null     float64\n",
            " 55  feat_52       45 non-null     float64\n",
            " 56  feat_53       45 non-null     float64\n",
            " 57  feat_54       45 non-null     float64\n",
            " 58  feat_55       45 non-null     float64\n",
            " 59  feat_56       45 non-null     float64\n",
            " 60  feat_57       45 non-null     float64\n",
            " 61  feat_58       45 non-null     float64\n",
            " 62  feat_59       45 non-null     float64\n",
            " 63  feat_60       45 non-null     float64\n",
            " 64  feat_61       45 non-null     float64\n",
            " 65  feat_62       45 non-null     float64\n",
            " 66  feat_63       45 non-null     float64\n",
            " 67  feat_64       45 non-null     float64\n",
            " 68  feat_65       45 non-null     float64\n",
            " 69  feat_66       45 non-null     float64\n",
            " 70  feat_67       45 non-null     float64\n",
            " 71  feat_68       45 non-null     float64\n",
            " 72  feat_69       45 non-null     float64\n",
            " 73  feat_70       45 non-null     float64\n",
            " 74  feat_71       45 non-null     float64\n",
            " 75  feat_72       45 non-null     float64\n",
            " 76  feat_73       45 non-null     float64\n",
            " 77  feat_74       45 non-null     float64\n",
            " 78  feat_75       45 non-null     float64\n",
            " 79  feat_76       45 non-null     float64\n",
            " 80  feat_77       45 non-null     float64\n",
            " 81  feat_78       45 non-null     float64\n",
            " 82  feat_79       45 non-null     float64\n",
            " 83  feat_80       45 non-null     float64\n",
            " 84  feat_81       45 non-null     float64\n",
            " 85  feat_82       45 non-null     float64\n",
            " 86  feat_83       45 non-null     float64\n",
            " 87  feat_84       45 non-null     float64\n",
            " 88  feat_85       45 non-null     float64\n",
            " 89  feat_86       45 non-null     float64\n",
            " 90  feat_87       45 non-null     float64\n",
            " 91  feat_88       45 non-null     float64\n",
            " 92  feat_89       45 non-null     float64\n",
            " 93  feat_90       45 non-null     float64\n",
            " 94  feat_91       45 non-null     float64\n",
            " 95  feat_92       45 non-null     float64\n",
            " 96  feat_93       45 non-null     float64\n",
            " 97  feat_94       45 non-null     float64\n",
            " 98  feat_95       45 non-null     float64\n",
            "dtypes: float64(96), object(3)\n",
            "memory usage: 46.5+ KB\n",
            "None\n"
          ]
        }
      ],
      "source": [
        "#Import the necessary Python libraries for Facial Recognition\n",
        "import pandas as pd\n",
        "from sklearn.model_selection import train_test_split\n",
        "from sklearn.ensemble import RandomForestClassifier\n",
        "from sklearn.metrics import accuracy_score, f1_score, log_loss\n",
        "import joblib\n",
        "\n",
        "# Load the image features dataset into the notebook\n",
        "df = pd.read_csv('image_features.csv')\n",
        "\n",
        "# Display the first five rows\n",
        "print(df.head())\n",
        "\n",
        "# Display column information\n",
        "print(df.info())"
      ]
    },
    {
      "cell_type": "code",
      "source": [
        "# Fill missing values in feature columns with 0.0\n",
        "feature_cols = [col for col in df.columns if col.startswith('feat_')]\n",
        "df[feature_cols] = df[feature_cols].fillna(0.0)\n",
        "\n",
        "# Define features (X) and target (y)\n",
        "X = df[feature_cols]\n",
        "y = df['member']"
      ],
      "metadata": {
        "id": "bkR2VHEFDSpa"
      },
      "execution_count": 17,
      "outputs": []
    },
    {
      "cell_type": "code",
      "source": [
        "# Split the data into training and testing sets\n",
        "X_train, X_test, y_train, y_test = train_test_split(X, y, test_size=0.3, random_state=42)\n",
        "\n",
        "# Train a RandomForestClassifier model\n",
        "model = RandomForestClassifier(random_state=42)\n",
        "model.fit(X_train, y_train)\n",
        "\n",
        "# Make predictictions\n",
        "y_pred = model.predict(X_test)\n",
        "y_pred_proba = model.predict_proba(X_test)\n"
      ],
      "metadata": {
        "id": "yIp9mu5MDYVz"
      },
      "execution_count": 18,
      "outputs": []
    },
    {
      "cell_type": "code",
      "source": [
        "# Evaluate the model\n",
        "accuracy = accuracy_score(y_test, y_pred)\n",
        "f1 = f1_score(y_test, y_pred, average='macro')\n",
        "loss = log_loss(y_test, y_pred_proba)\n",
        "\n",
        "print(f\"Accuracy: {accuracy:.4f}\")\n",
        "print(f\"F1 Score (macro): {f1:.4f}\")\n",
        "print(f\"Log Loss: {loss:.4f}\")\n"
      ],
      "metadata": {
        "colab": {
          "base_uri": "https://localhost:8080/"
        },
        "id": "7bSwzJhWDcWf",
        "outputId": "60d66365-ac43-45a8-ea7c-05eadfddd6a5"
      },
      "execution_count": 19,
      "outputs": [
        {
          "output_type": "stream",
          "name": "stdout",
          "text": [
            "Accuracy: 1.0000\n",
            "F1 Score (macro): 1.0000\n",
            "Log Loss: 0.0971\n"
          ]
        }
      ]
    },
    {
      "cell_type": "code",
      "source": [
        "#Save the model 'facial_recognition_model.joblib)\n",
        "joblib.dump(model, 'facial_recognition_model.joblib')\n",
        "\n",
        "print(\" The facial recognition model saved as 'facial_recognition_model.joblib'\")"
      ],
      "metadata": {
        "colab": {
          "base_uri": "https://localhost:8080/"
        },
        "id": "VgHa6ywLDts9",
        "outputId": "bc4ca916-0725-4a3e-fa9b-d456ca88e8b9"
      },
      "execution_count": 20,
      "outputs": [
        {
          "output_type": "stream",
          "name": "stdout",
          "text": [
            " The facial recognition model saved as 'facial_recognition_model.joblib'\n"
          ]
        }
      ]
    }
  ]
}