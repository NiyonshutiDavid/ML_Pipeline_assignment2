{
 "cells": [
  {
   "cell_type": "markdown",
   "id": "f4bc8b1e",
   "metadata": {},
   "source": [
    "***TASK 1- Dataset Merging***"
   ]
  },
  {
   "cell_type": "code",
   "execution_count": 5,
   "id": "bb09a7a1",
   "metadata": {},
   "outputs": [],
   "source": [
    "# Importing libraries\n",
    "\n",
    "import pandas as pd\n",
    "import os"
   ]
  },
  {
   "cell_type": "markdown",
   "id": "48acf815",
   "metadata": {},
   "source": [
    "***Loading Data***"
   ]
  },
  {
   "cell_type": "code",
   "execution_count": 6,
   "id": "7f2b214f",
   "metadata": {},
   "outputs": [
    {
     "name": "stdout",
     "output_type": "stream",
     "text": [
      "Transactions:\n"
     ]
    },
    {
     "data": {
      "text/html": [
       "<div>\n",
       "<style scoped>\n",
       "    .dataframe tbody tr th:only-of-type {\n",
       "        vertical-align: middle;\n",
       "    }\n",
       "\n",
       "    .dataframe tbody tr th {\n",
       "        vertical-align: top;\n",
       "    }\n",
       "\n",
       "    .dataframe thead th {\n",
       "        text-align: right;\n",
       "    }\n",
       "</style>\n",
       "<table border=\"1\" class=\"dataframe\">\n",
       "  <thead>\n",
       "    <tr style=\"text-align: right;\">\n",
       "      <th></th>\n",
       "      <th>customer_id_legacy</th>\n",
       "      <th>transaction_id</th>\n",
       "      <th>purchase_amount</th>\n",
       "      <th>purchase_date</th>\n",
       "      <th>product_category</th>\n",
       "      <th>customer_rating</th>\n",
       "    </tr>\n",
       "  </thead>\n",
       "  <tbody>\n",
       "    <tr>\n",
       "      <th>0</th>\n",
       "      <td>151</td>\n",
       "      <td>1001</td>\n",
       "      <td>408</td>\n",
       "      <td>2024-01-01</td>\n",
       "      <td>Sports</td>\n",
       "      <td>2.3</td>\n",
       "    </tr>\n",
       "    <tr>\n",
       "      <th>1</th>\n",
       "      <td>192</td>\n",
       "      <td>1002</td>\n",
       "      <td>332</td>\n",
       "      <td>2024-01-02</td>\n",
       "      <td>Electronics</td>\n",
       "      <td>4.2</td>\n",
       "    </tr>\n",
       "    <tr>\n",
       "      <th>2</th>\n",
       "      <td>114</td>\n",
       "      <td>1003</td>\n",
       "      <td>442</td>\n",
       "      <td>2024-01-03</td>\n",
       "      <td>Electronics</td>\n",
       "      <td>2.1</td>\n",
       "    </tr>\n",
       "    <tr>\n",
       "      <th>3</th>\n",
       "      <td>171</td>\n",
       "      <td>1004</td>\n",
       "      <td>256</td>\n",
       "      <td>2024-01-04</td>\n",
       "      <td>Clothing</td>\n",
       "      <td>2.8</td>\n",
       "    </tr>\n",
       "    <tr>\n",
       "      <th>4</th>\n",
       "      <td>160</td>\n",
       "      <td>1005</td>\n",
       "      <td>64</td>\n",
       "      <td>2024-01-05</td>\n",
       "      <td>Clothing</td>\n",
       "      <td>1.3</td>\n",
       "    </tr>\n",
       "  </tbody>\n",
       "</table>\n",
       "</div>"
      ],
      "text/plain": [
       "   customer_id_legacy  transaction_id  purchase_amount purchase_date  \\\n",
       "0                 151            1001              408    2024-01-01   \n",
       "1                 192            1002              332    2024-01-02   \n",
       "2                 114            1003              442    2024-01-03   \n",
       "3                 171            1004              256    2024-01-04   \n",
       "4                 160            1005               64    2024-01-05   \n",
       "\n",
       "  product_category  customer_rating  \n",
       "0           Sports              2.3  \n",
       "1      Electronics              4.2  \n",
       "2      Electronics              2.1  \n",
       "3         Clothing              2.8  \n",
       "4         Clothing              1.3  "
      ]
     },
     "metadata": {},
     "output_type": "display_data"
    },
    {
     "name": "stdout",
     "output_type": "stream",
     "text": [
      "Social Profiles:\n"
     ]
    },
    {
     "data": {
      "text/html": [
       "<div>\n",
       "<style scoped>\n",
       "    .dataframe tbody tr th:only-of-type {\n",
       "        vertical-align: middle;\n",
       "    }\n",
       "\n",
       "    .dataframe tbody tr th {\n",
       "        vertical-align: top;\n",
       "    }\n",
       "\n",
       "    .dataframe thead th {\n",
       "        text-align: right;\n",
       "    }\n",
       "</style>\n",
       "<table border=\"1\" class=\"dataframe\">\n",
       "  <thead>\n",
       "    <tr style=\"text-align: right;\">\n",
       "      <th></th>\n",
       "      <th>customer_id_new</th>\n",
       "      <th>social_media_platform</th>\n",
       "      <th>engagement_score</th>\n",
       "      <th>purchase_interest_score</th>\n",
       "      <th>review_sentiment</th>\n",
       "    </tr>\n",
       "  </thead>\n",
       "  <tbody>\n",
       "    <tr>\n",
       "      <th>0</th>\n",
       "      <td>A178</td>\n",
       "      <td>LinkedIn</td>\n",
       "      <td>74</td>\n",
       "      <td>4.9</td>\n",
       "      <td>Positive</td>\n",
       "    </tr>\n",
       "    <tr>\n",
       "      <th>1</th>\n",
       "      <td>A190</td>\n",
       "      <td>Twitter</td>\n",
       "      <td>82</td>\n",
       "      <td>4.8</td>\n",
       "      <td>Neutral</td>\n",
       "    </tr>\n",
       "    <tr>\n",
       "      <th>2</th>\n",
       "      <td>A150</td>\n",
       "      <td>Facebook</td>\n",
       "      <td>96</td>\n",
       "      <td>1.6</td>\n",
       "      <td>Positive</td>\n",
       "    </tr>\n",
       "    <tr>\n",
       "      <th>3</th>\n",
       "      <td>A162</td>\n",
       "      <td>Twitter</td>\n",
       "      <td>89</td>\n",
       "      <td>2.6</td>\n",
       "      <td>Positive</td>\n",
       "    </tr>\n",
       "    <tr>\n",
       "      <th>4</th>\n",
       "      <td>A197</td>\n",
       "      <td>Twitter</td>\n",
       "      <td>92</td>\n",
       "      <td>2.3</td>\n",
       "      <td>Neutral</td>\n",
       "    </tr>\n",
       "  </tbody>\n",
       "</table>\n",
       "</div>"
      ],
      "text/plain": [
       "  customer_id_new social_media_platform  engagement_score  \\\n",
       "0            A178              LinkedIn                74   \n",
       "1            A190               Twitter                82   \n",
       "2            A150              Facebook                96   \n",
       "3            A162               Twitter                89   \n",
       "4            A197               Twitter                92   \n",
       "\n",
       "   purchase_interest_score review_sentiment  \n",
       "0                      4.9         Positive  \n",
       "1                      4.8          Neutral  \n",
       "2                      1.6         Positive  \n",
       "3                      2.6         Positive  \n",
       "4                      2.3          Neutral  "
      ]
     },
     "metadata": {},
     "output_type": "display_data"
    }
   ],
   "source": [
    "# Loading both CSVs from the data folder\n",
    "transactions_df = pd.read_csv(\"../data/customer_transactions.csv\")\n",
    "social_profiles_df = pd.read_csv(\"../data/customer_social_profiles.csv\")\n",
    "\n",
    "# Display the first 5 rows of each dataset\n",
    "print(\"Transactions:\")\n",
    "display(transactions_df.head())\n",
    "\n",
    "print(\"Social Profiles:\")\n",
    "display(social_profiles_df.head())\n"
   ]
  },
  {
   "cell_type": "markdown",
   "id": "179048a3",
   "metadata": {},
   "source": [
    "***Merging Data***"
   ]
  },
  {
   "cell_type": "code",
   "execution_count": 7,
   "id": "f84c3d7b",
   "metadata": {},
   "outputs": [
    {
     "name": "stdout",
     "output_type": "stream",
     "text": [
      "Index(['customer_id_legacy', 'transaction_id', 'purchase_amount',\n",
      "       'purchase_date', 'product_category', 'customer_rating'],\n",
      "      dtype='object')\n",
      "Index(['customer_id_new', 'social_media_platform', 'engagement_score',\n",
      "       'purchase_interest_score', 'review_sentiment'],\n",
      "      dtype='object')\n"
     ]
    }
   ],
   "source": [
    "# Display column names\n",
    "print(transactions_df.columns)\n",
    "print(social_profiles_df.columns)"
   ]
  },
  {
   "cell_type": "code",
   "execution_count": 8,
   "id": "1bf8ea3b",
   "metadata": {},
   "outputs": [
    {
     "name": "stdout",
     "output_type": "stream",
     "text": [
      "Matching customer IDs: 0\n"
     ]
    }
   ],
   "source": [
    "# Find matching customer IDs\n",
    "set1 = set(transactions_df['customer_id_legacy'])\n",
    "set2 = set(social_profiles_df['customer_id_new'])\n",
    "\n",
    "intersection = set1.intersection(set2)\n",
    "print(f\"Matching customer IDs: {len(intersection)}\")"
   ]
  },
  {
   "cell_type": "code",
   "execution_count": 9,
   "id": "3900c715",
   "metadata": {},
   "outputs": [],
   "source": [
    "# Merge datasets\n",
    "import numpy as np\n",
    "\n",
    "# Randomly assign a social profile to each transaction\n",
    "social_profiles_sampled = social_profiles_df.sample(n=len(transactions_df), replace=True).reset_index(drop=True)\n",
    "transactions = transactions_df.reset_index(drop=True)\n",
    "\n",
    "merged_data = pd.concat([transactions, social_profiles_sampled], axis=1)\n"
   ]
  },
  {
   "cell_type": "code",
   "execution_count": null,
   "id": "5726b32a",
   "metadata": {},
   "outputs": [
    {
     "name": "stdout",
     "output_type": "stream",
     "text": [
      "Dataset shape: (150, 11)\n"
     ]
    },
    {
     "data": {
      "text/html": [
       "<div>\n",
       "<style scoped>\n",
       "    .dataframe tbody tr th:only-of-type {\n",
       "        vertical-align: middle;\n",
       "    }\n",
       "\n",
       "    .dataframe tbody tr th {\n",
       "        vertical-align: top;\n",
       "    }\n",
       "\n",
       "    .dataframe thead th {\n",
       "        text-align: right;\n",
       "    }\n",
       "</style>\n",
       "<table border=\"1\" class=\"dataframe\">\n",
       "  <thead>\n",
       "    <tr style=\"text-align: right;\">\n",
       "      <th></th>\n",
       "      <th>customer_id_legacy</th>\n",
       "      <th>transaction_id</th>\n",
       "      <th>purchase_amount</th>\n",
       "      <th>purchase_date</th>\n",
       "      <th>product_category</th>\n",
       "      <th>customer_rating</th>\n",
       "      <th>customer_id_new</th>\n",
       "      <th>social_media_platform</th>\n",
       "      <th>engagement_score</th>\n",
       "      <th>purchase_interest_score</th>\n",
       "      <th>review_sentiment</th>\n",
       "    </tr>\n",
       "  </thead>\n",
       "  <tbody>\n",
       "    <tr>\n",
       "      <th>0</th>\n",
       "      <td>151</td>\n",
       "      <td>1001</td>\n",
       "      <td>408</td>\n",
       "      <td>2024-01-01</td>\n",
       "      <td>Sports</td>\n",
       "      <td>2.3</td>\n",
       "      <td>A181</td>\n",
       "      <td>Twitter</td>\n",
       "      <td>66</td>\n",
       "      <td>2.1</td>\n",
       "      <td>Positive</td>\n",
       "    </tr>\n",
       "    <tr>\n",
       "      <th>1</th>\n",
       "      <td>192</td>\n",
       "      <td>1002</td>\n",
       "      <td>332</td>\n",
       "      <td>2024-01-02</td>\n",
       "      <td>Electronics</td>\n",
       "      <td>4.2</td>\n",
       "      <td>A133</td>\n",
       "      <td>Twitter</td>\n",
       "      <td>72</td>\n",
       "      <td>1.9</td>\n",
       "      <td>Positive</td>\n",
       "    </tr>\n",
       "    <tr>\n",
       "      <th>2</th>\n",
       "      <td>114</td>\n",
       "      <td>1003</td>\n",
       "      <td>442</td>\n",
       "      <td>2024-01-03</td>\n",
       "      <td>Electronics</td>\n",
       "      <td>2.1</td>\n",
       "      <td>A181</td>\n",
       "      <td>Twitter</td>\n",
       "      <td>66</td>\n",
       "      <td>2.1</td>\n",
       "      <td>Positive</td>\n",
       "    </tr>\n",
       "    <tr>\n",
       "      <th>3</th>\n",
       "      <td>171</td>\n",
       "      <td>1004</td>\n",
       "      <td>256</td>\n",
       "      <td>2024-01-04</td>\n",
       "      <td>Clothing</td>\n",
       "      <td>2.8</td>\n",
       "      <td>A142</td>\n",
       "      <td>LinkedIn</td>\n",
       "      <td>75</td>\n",
       "      <td>4.9</td>\n",
       "      <td>Positive</td>\n",
       "    </tr>\n",
       "    <tr>\n",
       "      <th>4</th>\n",
       "      <td>160</td>\n",
       "      <td>1005</td>\n",
       "      <td>64</td>\n",
       "      <td>2024-01-05</td>\n",
       "      <td>Clothing</td>\n",
       "      <td>1.3</td>\n",
       "      <td>A190</td>\n",
       "      <td>Twitter</td>\n",
       "      <td>82</td>\n",
       "      <td>4.8</td>\n",
       "      <td>Neutral</td>\n",
       "    </tr>\n",
       "  </tbody>\n",
       "</table>\n",
       "</div>"
      ],
      "text/plain": [
       "   customer_id_legacy  transaction_id  purchase_amount purchase_date  \\\n",
       "0                 151            1001              408    2024-01-01   \n",
       "1                 192            1002              332    2024-01-02   \n",
       "2                 114            1003              442    2024-01-03   \n",
       "3                 171            1004              256    2024-01-04   \n",
       "4                 160            1005               64    2024-01-05   \n",
       "\n",
       "  product_category  customer_rating customer_id_new social_media_platform  \\\n",
       "0           Sports              2.3            A181               Twitter   \n",
       "1      Electronics              4.2            A133               Twitter   \n",
       "2      Electronics              2.1            A181               Twitter   \n",
       "3         Clothing              2.8            A142              LinkedIn   \n",
       "4         Clothing              1.3            A190               Twitter   \n",
       "\n",
       "   engagement_score  purchase_interest_score review_sentiment  \n",
       "0                66                      2.1         Positive  \n",
       "1                72                      1.9         Positive  \n",
       "2                66                      2.1         Positive  \n",
       "3                75                      4.9         Positive  \n",
       "4                82                      4.8          Neutral  "
      ]
     },
     "execution_count": 10,
     "metadata": {},
     "output_type": "execute_result"
    }
   ],
   "source": [
    "# Display the first 5 rows of the merged dataset\n",
    "print(\"Dataset shape:\", merged_data.shape)\n",
    "merged_data.head()"
   ]
  },
  {
   "cell_type": "code",
   "execution_count": 11,
   "id": "c21ccbb9",
   "metadata": {},
   "outputs": [
    {
     "name": "stdout",
     "output_type": "stream",
     "text": [
      "Merged dataset saved to data/merged_dataset.csv\n"
     ]
    }
   ],
   "source": [
    "# Save merged dataset\n",
    "merged_data.to_csv(\"../data/merged_dataset.csv\", index=False)\n",
    "print(\"Merged dataset saved to data/merged_dataset.csv\")"
   ]
  },
  {
   "cell_type": "markdown",
   "id": "747877c7",
   "metadata": {},
   "source": [
    "***Data Cleaning and Merge Validation***"
   ]
  },
  {
   "cell_type": "code",
   "execution_count": 12,
   "id": "f643b45a",
   "metadata": {},
   "outputs": [
    {
     "name": "stdout",
     "output_type": "stream",
     "text": [
      "Missing values per column:\n",
      "customer_id_legacy          0\n",
      "transaction_id              0\n",
      "purchase_amount             0\n",
      "purchase_date               0\n",
      "product_category            0\n",
      "customer_rating            10\n",
      "customer_id_new             0\n",
      "social_media_platform       0\n",
      "engagement_score            0\n",
      "purchase_interest_score     0\n",
      "review_sentiment            0\n",
      "dtype: int64\n",
      "Duplicate rows: 0\n"
     ]
    }
   ],
   "source": [
    "# Missing values\n",
    "print(\"Missing values per column:\")\n",
    "print(merged_data.isnull().sum())\n",
    "\n",
    "# Drop or impute missing values\n",
    "merged_data = merged_data.dropna()\n",
    "\n",
    "# Duplicate values\n",
    "print(f\"Duplicate rows: {merged_data.duplicated().sum()}\")\n",
    "merged_data = merged_data.drop_duplicates()\n"
   ]
  },
  {
   "cell_type": "markdown",
   "id": "8c11fa86",
   "metadata": {},
   "source": [
    "***Fixing Data types***"
   ]
  },
  {
   "cell_type": "code",
   "execution_count": 13,
   "id": "ce51b831",
   "metadata": {},
   "outputs": [],
   "source": [
    "# Convert dates\n",
    "merged_data['purchase_date'] = pd.to_datetime(merged_data['purchase_date'])\n",
    "\n",
    "# Convert numeric columns if needed\n",
    "merged_data['customer_rating'] = pd.to_numeric(merged_data['customer_rating'], errors='coerce')"
   ]
  },
  {
   "cell_type": "code",
   "execution_count": 15,
   "id": "3e1c24e4",
   "metadata": {},
   "outputs": [
    {
     "name": "stdout",
     "output_type": "stream",
     "text": [
      "Data shape after cleaning: (140, 11)\n"
     ]
    },
    {
     "data": {
      "text/html": [
       "<div>\n",
       "<style scoped>\n",
       "    .dataframe tbody tr th:only-of-type {\n",
       "        vertical-align: middle;\n",
       "    }\n",
       "\n",
       "    .dataframe tbody tr th {\n",
       "        vertical-align: top;\n",
       "    }\n",
       "\n",
       "    .dataframe thead th {\n",
       "        text-align: right;\n",
       "    }\n",
       "</style>\n",
       "<table border=\"1\" class=\"dataframe\">\n",
       "  <thead>\n",
       "    <tr style=\"text-align: right;\">\n",
       "      <th></th>\n",
       "      <th>customer_id_legacy</th>\n",
       "      <th>transaction_id</th>\n",
       "      <th>purchase_amount</th>\n",
       "      <th>purchase_date</th>\n",
       "      <th>product_category</th>\n",
       "      <th>customer_rating</th>\n",
       "      <th>customer_id_new</th>\n",
       "      <th>social_media_platform</th>\n",
       "      <th>engagement_score</th>\n",
       "      <th>purchase_interest_score</th>\n",
       "      <th>review_sentiment</th>\n",
       "    </tr>\n",
       "  </thead>\n",
       "  <tbody>\n",
       "    <tr>\n",
       "      <th>0</th>\n",
       "      <td>151</td>\n",
       "      <td>1001</td>\n",
       "      <td>408</td>\n",
       "      <td>2024-01-01</td>\n",
       "      <td>Sports</td>\n",
       "      <td>2.3</td>\n",
       "      <td>A181</td>\n",
       "      <td>Twitter</td>\n",
       "      <td>66</td>\n",
       "      <td>2.1</td>\n",
       "      <td>Positive</td>\n",
       "    </tr>\n",
       "    <tr>\n",
       "      <th>1</th>\n",
       "      <td>192</td>\n",
       "      <td>1002</td>\n",
       "      <td>332</td>\n",
       "      <td>2024-01-02</td>\n",
       "      <td>Electronics</td>\n",
       "      <td>4.2</td>\n",
       "      <td>A133</td>\n",
       "      <td>Twitter</td>\n",
       "      <td>72</td>\n",
       "      <td>1.9</td>\n",
       "      <td>Positive</td>\n",
       "    </tr>\n",
       "    <tr>\n",
       "      <th>2</th>\n",
       "      <td>114</td>\n",
       "      <td>1003</td>\n",
       "      <td>442</td>\n",
       "      <td>2024-01-03</td>\n",
       "      <td>Electronics</td>\n",
       "      <td>2.1</td>\n",
       "      <td>A181</td>\n",
       "      <td>Twitter</td>\n",
       "      <td>66</td>\n",
       "      <td>2.1</td>\n",
       "      <td>Positive</td>\n",
       "    </tr>\n",
       "    <tr>\n",
       "      <th>3</th>\n",
       "      <td>171</td>\n",
       "      <td>1004</td>\n",
       "      <td>256</td>\n",
       "      <td>2024-01-04</td>\n",
       "      <td>Clothing</td>\n",
       "      <td>2.8</td>\n",
       "      <td>A142</td>\n",
       "      <td>LinkedIn</td>\n",
       "      <td>75</td>\n",
       "      <td>4.9</td>\n",
       "      <td>Positive</td>\n",
       "    </tr>\n",
       "    <tr>\n",
       "      <th>4</th>\n",
       "      <td>160</td>\n",
       "      <td>1005</td>\n",
       "      <td>64</td>\n",
       "      <td>2024-01-05</td>\n",
       "      <td>Clothing</td>\n",
       "      <td>1.3</td>\n",
       "      <td>A190</td>\n",
       "      <td>Twitter</td>\n",
       "      <td>82</td>\n",
       "      <td>4.8</td>\n",
       "      <td>Neutral</td>\n",
       "    </tr>\n",
       "  </tbody>\n",
       "</table>\n",
       "</div>"
      ],
      "text/plain": [
       "   customer_id_legacy  transaction_id  purchase_amount purchase_date  \\\n",
       "0                 151            1001              408    2024-01-01   \n",
       "1                 192            1002              332    2024-01-02   \n",
       "2                 114            1003              442    2024-01-03   \n",
       "3                 171            1004              256    2024-01-04   \n",
       "4                 160            1005               64    2024-01-05   \n",
       "\n",
       "  product_category  customer_rating customer_id_new social_media_platform  \\\n",
       "0           Sports              2.3            A181               Twitter   \n",
       "1      Electronics              4.2            A133               Twitter   \n",
       "2      Electronics              2.1            A181               Twitter   \n",
       "3         Clothing              2.8            A142              LinkedIn   \n",
       "4         Clothing              1.3            A190               Twitter   \n",
       "\n",
       "   engagement_score  purchase_interest_score review_sentiment  \n",
       "0                66                      2.1         Positive  \n",
       "1                72                      1.9         Positive  \n",
       "2                66                      2.1         Positive  \n",
       "3                75                      4.9         Positive  \n",
       "4                82                      4.8          Neutral  "
      ]
     },
     "execution_count": 15,
     "metadata": {},
     "output_type": "execute_result"
    }
   ],
   "source": [
    "# Data shape after cleaning and validation\n",
    "print(\"Data shape after cleaning:\", merged_data.shape)\n",
    "merged_data.head()"
   ]
  },
  {
   "cell_type": "code",
   "execution_count": 21,
   "id": "a82798ee",
   "metadata": {},
   "outputs": [
    {
     "name": "stdout",
     "output_type": "stream",
     "text": [
      "Cleaned dataset saved to data/cleaned_merged_dataset.csv\n"
     ]
    }
   ],
   "source": [
    "# Save cleaned dataset\n",
    "merged_data.to_csv(\"../data/cleaned_merged_dataset.csv\", index=False)\n",
    "print(\"Cleaned dataset saved to data/cleaned_merged_dataset.csv\")"
   ]
  },
  {
   "cell_type": "markdown",
   "id": "1c19ecef",
   "metadata": {},
   "source": [
    "**Join Logic Justification**\n",
    "\n",
    "The original datasets used different and incompatible `customer_id` formats (`151` vs `A151`) and lacked a shared join key (e.g., email, phone, or consistent ID). As no common column could reliably link transactions to social profiles, we implemented a fallback strategy: randomly pairing social profiles with transactions using the same number of rows. This approach was chosen to simulate merged behavior data for exploratory modeling, and post-merge checks confirmed the structure and completeness of the new dataset.\n",
    "\n"
   ]
  },
  {
   "cell_type": "markdown",
   "id": "0fd90eac",
   "metadata": {},
   "source": [
    "***Exploratory Data Analysis***"
   ]
  },
  {
   "cell_type": "code",
   "execution_count": null,
   "id": "b313a24c",
   "metadata": {},
   "outputs": [
    {
     "name": "stdout",
     "output_type": "stream",
     "text": [
      "customer_id_legacy                  int64\n",
      "transaction_id                      int64\n",
      "purchase_amount                     int64\n",
      "purchase_date              datetime64[ns]\n",
      "product_category                   object\n",
      "customer_rating                   float64\n",
      "customer_id_new                    object\n",
      "social_media_platform              object\n",
      "engagement_score                    int64\n",
      "purchase_interest_score           float64\n",
      "review_sentiment                   object\n",
      "dtype: object\n",
      "product_category\n",
      "Sports         34\n",
      "Electronics    30\n",
      "Clothing       27\n",
      "Groceries      26\n",
      "Books          23\n",
      "Name: count, dtype: int64\n",
      "social_media_platform\n",
      "Twitter      39\n",
      "TikTok       34\n",
      "Facebook     25\n",
      "Instagram    24\n",
      "LinkedIn     18\n",
      "Name: count, dtype: int64\n"
     ]
    }
   ],
   "source": [
    "# Summary statistics\n",
    "\n",
    "# Data types\n",
    "print(merged_data.dtypes)\n",
    "merged_data.describe()\n",
    "\n",
    "# Category distributions\n",
    "print(merged_data['product_category'].value_counts())\n",
    "print(merged_data['social_media_platform'].value_counts())\n"
   ]
  },
  {
   "cell_type": "markdown",
   "id": "7e10b6b1",
   "metadata": {},
   "source": [
    "***Plotting distributions, outliers and correlations***"
   ]
  },
  {
   "cell_type": "code",
   "execution_count": null,
   "id": "6999cca4",
   "metadata": {},
   "outputs": [
    {
     "data": {
      "image/png": "[encoded data removed]",
      "text/plain": [
       "<Figure size 800x500 with 1 Axes>"
      ]
     },
     "metadata": {},
     "output_type": "display_data"
    }
   ],
   "source": [
    "# Distribution of purchase amount\n",
    "\n",
    "import seaborn as sns\n",
    "import matplotlib.pyplot as plt\n",
    "\n",
    "plt.figure(figsize=(8, 5))\n",
    "sns.histplot(merged_data['purchase_amount'], kde=True, bins=30)\n",
    "plt.title(\"Distribution of Purchase Amount\")\n",
    "plt.xlabel(\"Purchase Amount\")\n",
    "plt.ylabel(\"Frequency\")\n",
    "plt.tight_layout()\n",
    "plt.show()\n"
   ]
  },
  {
   "cell_type": "code",
   "execution_count": 19,
   "id": "06c23c8f",
   "metadata": {},
   "outputs": [
    {
     "data": {
      "image/png": "[encoded data removed]",
      "text/plain": [
       "<Figure size 600x400 with 1 Axes>"
      ]
     },
     "metadata": {},
     "output_type": "display_data"
    }
   ],
   "source": [
    "# Outlier Distribution of customer rating\n",
    "plt.figure(figsize=(6, 4))\n",
    "sns.boxplot(y=merged_data['customer_rating'])\n",
    "plt.title(\"Customer Rating Distribution with Outliers\")\n",
    "plt.tight_layout()\n",
    "plt.show()"
   ]
  },
  {
   "cell_type": "code",
   "execution_count": 20,
   "id": "397c3f75",
   "metadata": {},
   "outputs": [
    {
     "data": {
      "image/png": "[encoded data removed]",
      "text/plain": [
       "<Figure size 800x600 with 2 Axes>"
      ]
     },
     "metadata": {},
     "output_type": "display_data"
    }
   ],
   "source": [
    "# Correlation between numeric features\n",
    "\n",
    "plt.figure(figsize=(8, 6))\n",
    "sns.heatmap(merged_data[[\n",
    "    'purchase_amount', \n",
    "    'customer_rating', \n",
    "    'engagement_score', \n",
    "    'purchase_interest_score'\n",
    "]].corr(), annot=True, cmap=\"coolwarm\")\n",
    "\n",
    "plt.title(\"Correlation Between Numeric Features\")\n",
    "plt.tight_layout()\n",
    "plt.show()"
   ]
  },
  {
   "cell_type": "markdown",
   "id": "66f645b2",
   "metadata": {},
   "source": [
    "***Exploratory Data Analysis Insights***\n",
    "\n",
    "- **Purchase Amount** is right-skewed, indicating a few high-value transactions.\n",
    "- **Customer Rating** has visible outliers, possibly biased or spammy reviews. Boxplots were chosen to highlight statistical outliers in `customer_rating`, as they clearly show data dispersion and extreme values beyond the 1.5×IQR threshold.\n",
    "- Strong correlation (~0.7) observed between **engagement_score** and **purchase_interest_score**, suggesting more engaged users show higher intent to purchase.\n",
    "- Distribution across **product_category** is unbalanced; Electronics is dominant.\n"
   ]
  }
 ],
 "metadata": {
  "kernelspec": {
   "display_name": ".venv",
   "language": "python",
   "name": "python3"
  },
  "language_info": {
   "codemirror_mode": {
    "name": "ipython",
    "version": 3
   },
   "file_extension": ".py",
   "mimetype": "text/x-python",
   "name": "python",
   "nbconvert_exporter": "python",
   "pygments_lexer": "ipython3",
   "version": "3.12.2"
  }
 },
 "nbformat": 4,
 "nbformat_minor": 5
}
