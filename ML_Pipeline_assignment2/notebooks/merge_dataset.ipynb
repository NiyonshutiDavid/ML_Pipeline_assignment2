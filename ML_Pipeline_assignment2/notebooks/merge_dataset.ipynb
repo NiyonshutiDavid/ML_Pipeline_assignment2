{
 "cells": [
  {
   "cell_type": "markdown",
   "id": "f4bc8b1e",
   "metadata": {},
   "source": [
    "***TASK 1- Dataset Merging***"
   ]
  },
  {
   "cell_type": "code",
   "execution_count": 2,
   "id": "bb09a7a1",
   "metadata": {},
   "outputs": [],
   "source": [
    "# Importing libraries\n",
    "\n",
    "import pandas as pd\n",
    "import os"
   ]
  },
  {
   "cell_type": "markdown",
   "id": "48acf815",
   "metadata": {},
   "source": [
    "***Loading Data***"
   ]
  },
  {
   "cell_type": "code",
   "execution_count": 22,
   "id": "7f2b214f",
   "metadata": {},
   "outputs": [
    {
     "name": "stdout",
     "output_type": "stream",
     "text": [
      "Transactions:\n"
     ]
    },
    {
     "data": {
      "text/html": [
       "<div>\n",
       "<style scoped>\n",
       "    .dataframe tbody tr th:only-of-type {\n",
       "        vertical-align: middle;\n",
       "    }\n",
       "\n",
       "    .dataframe tbody tr th {\n",
       "        vertical-align: top;\n",
       "    }\n",
       "\n",
       "    .dataframe thead th {\n",
       "        text-align: right;\n",
       "    }\n",
       "</style>\n",
       "<table border=\"1\" class=\"dataframe\">\n",
       "  <thead>\n",
       "    <tr style=\"text-align: right;\">\n",
       "      <th></th>\n",
       "      <th>customer_id_legacy</th>\n",
       "      <th>transaction_id</th>\n",
       "      <th>purchase_amount</th>\n",
       "      <th>purchase_date</th>\n",
       "      <th>product_category</th>\n",
       "      <th>customer_rating</th>\n",
       "    </tr>\n",
       "  </thead>\n",
       "  <tbody>\n",
       "    <tr>\n",
       "      <th>0</th>\n",
       "      <td>151</td>\n",
       "      <td>1001</td>\n",
       "      <td>408</td>\n",
       "      <td>2024-01-01</td>\n",
       "      <td>Sports</td>\n",
       "      <td>2.3</td>\n",
       "    </tr>\n",
       "    <tr>\n",
       "      <th>1</th>\n",
       "      <td>192</td>\n",
       "      <td>1002</td>\n",
       "      <td>332</td>\n",
       "      <td>2024-01-02</td>\n",
       "      <td>Electronics</td>\n",
       "      <td>4.2</td>\n",
       "    </tr>\n",
       "    <tr>\n",
       "      <th>2</th>\n",
       "      <td>114</td>\n",
       "      <td>1003</td>\n",
       "      <td>442</td>\n",
       "      <td>2024-01-03</td>\n",
       "      <td>Electronics</td>\n",
       "      <td>2.1</td>\n",
       "    </tr>\n",
       "    <tr>\n",
       "      <th>3</th>\n",
       "      <td>171</td>\n",
       "      <td>1004</td>\n",
       "      <td>256</td>\n",
       "      <td>2024-01-04</td>\n",
       "      <td>Clothing</td>\n",
       "      <td>2.8</td>\n",
       "    </tr>\n",
       "    <tr>\n",
       "      <th>4</th>\n",
       "      <td>160</td>\n",
       "      <td>1005</td>\n",
       "      <td>64</td>\n",
       "      <td>2024-01-05</td>\n",
       "      <td>Clothing</td>\n",
       "      <td>1.3</td>\n",
       "    </tr>\n",
       "  </tbody>\n",
       "</table>\n",
       "</div>"
      ],
      "text/plain": [
       "   customer_id_legacy  transaction_id  purchase_amount purchase_date  \\\n",
       "0                 151            1001              408    2024-01-01   \n",
       "1                 192            1002              332    2024-01-02   \n",
       "2                 114            1003              442    2024-01-03   \n",
       "3                 171            1004              256    2024-01-04   \n",
       "4                 160            1005               64    2024-01-05   \n",
       "\n",
       "  product_category  customer_rating  \n",
       "0           Sports              2.3  \n",
       "1      Electronics              4.2  \n",
       "2      Electronics              2.1  \n",
       "3         Clothing              2.8  \n",
       "4         Clothing              1.3  "
      ]
     },
     "metadata": {},
     "output_type": "display_data"
    },
    {
     "name": "stdout",
     "output_type": "stream",
     "text": [
      "Social Profiles:\n"
     ]
    },
    {
     "data": {
      "text/html": [
       "<div>\n",
       "<style scoped>\n",
       "    .dataframe tbody tr th:only-of-type {\n",
       "        vertical-align: middle;\n",
       "    }\n",
       "\n",
       "    .dataframe tbody tr th {\n",
       "        vertical-align: top;\n",
       "    }\n",
       "\n",
       "    .dataframe thead th {\n",
       "        text-align: right;\n",
       "    }\n",
       "</style>\n",
       "<table border=\"1\" class=\"dataframe\">\n",
       "  <thead>\n",
       "    <tr style=\"text-align: right;\">\n",
       "      <th></th>\n",
       "      <th>customer_id_new</th>\n",
       "      <th>social_media_platform</th>\n",
       "      <th>engagement_score</th>\n",
       "      <th>purchase_interest_score</th>\n",
       "      <th>review_sentiment</th>\n",
       "    </tr>\n",
       "  </thead>\n",
       "  <tbody>\n",
       "    <tr>\n",
       "      <th>0</th>\n",
       "      <td>A178</td>\n",
       "      <td>LinkedIn</td>\n",
       "      <td>74</td>\n",
       "      <td>4.9</td>\n",
       "      <td>Positive</td>\n",
       "    </tr>\n",
       "    <tr>\n",
       "      <th>1</th>\n",
       "      <td>A190</td>\n",
       "      <td>Twitter</td>\n",
       "      <td>82</td>\n",
       "      <td>4.8</td>\n",
       "      <td>Neutral</td>\n",
       "    </tr>\n",
       "    <tr>\n",
       "      <th>2</th>\n",
       "      <td>A150</td>\n",
       "      <td>Facebook</td>\n",
       "      <td>96</td>\n",
       "      <td>1.6</td>\n",
       "      <td>Positive</td>\n",
       "    </tr>\n",
       "    <tr>\n",
       "      <th>3</th>\n",
       "      <td>A162</td>\n",
       "      <td>Twitter</td>\n",
       "      <td>89</td>\n",
       "      <td>2.6</td>\n",
       "      <td>Positive</td>\n",
       "    </tr>\n",
       "    <tr>\n",
       "      <th>4</th>\n",
       "      <td>A197</td>\n",
       "      <td>Twitter</td>\n",
       "      <td>92</td>\n",
       "      <td>2.3</td>\n",
       "      <td>Neutral</td>\n",
       "    </tr>\n",
       "  </tbody>\n",
       "</table>\n",
       "</div>"
      ],
      "text/plain": [
       "  customer_id_new social_media_platform  engagement_score  \\\n",
       "0            A178              LinkedIn                74   \n",
       "1            A190               Twitter                82   \n",
       "2            A150              Facebook                96   \n",
       "3            A162               Twitter                89   \n",
       "4            A197               Twitter                92   \n",
       "\n",
       "   purchase_interest_score review_sentiment  \n",
       "0                      4.9         Positive  \n",
       "1                      4.8          Neutral  \n",
       "2                      1.6         Positive  \n",
       "3                      2.6         Positive  \n",
       "4                      2.3          Neutral  "
      ]
     },
     "metadata": {},
     "output_type": "display_data"
    }
   ],
   "source": [
    "# Loading both CSVs from the data folder\n",
    "transactions_df = pd.read_csv(\"../data/customer_transactions.csv\")\n",
    "social_profiles_df = pd.read_csv(\"../data/customer_social_profiles.csv\")\n",
    "\n",
    "# Display the first 5 rows of each dataset\n",
    "print(\"Transactions:\")\n",
    "display(transactions_df.head())\n",
    "\n",
    "print(\"Social Profiles:\")\n",
    "display(social_profiles_df.head())\n"
   ]
  },
  {
   "cell_type": "markdown",
   "id": "179048a3",
   "metadata": {},
   "source": [
    "***Merging Data***"
   ]
  },
  {
   "cell_type": "code",
   "execution_count": 13,
   "id": "f84c3d7b",
   "metadata": {},
   "outputs": [
    {
     "name": "stdout",
     "output_type": "stream",
     "text": [
      "Index(['customer_id_legacy', 'transaction_id', 'purchase_amount',\n",
      "       'purchase_date', 'product_category', 'customer_rating'],\n",
      "      dtype='object')\n",
      "Index(['customer_id_new', 'social_media_platform', 'engagement_score',\n",
      "       'purchase_interest_score', 'review_sentiment'],\n",
      "      dtype='object')\n"
     ]
    }
   ],
   "source": [
    "print(transactions_df.columns)\n",
    "print(social_profiles_df.columns)"
   ]
  },
  {
   "cell_type": "code",
   "execution_count": 16,
   "id": "1bf8ea3b",
   "metadata": {},
   "outputs": [
    {
     "name": "stdout",
     "output_type": "stream",
     "text": [
      "Matching customer IDs: 0\n"
     ]
    }
   ],
   "source": [
    "set1 = set(transactions_df['customer_id_legacy'])\n",
    "set2 = set(social_profiles_df['customer_id_new'])\n",
    "\n",
    "intersection = set1.intersection(set2)\n",
    "print(f\"Matching customer IDs: {len(intersection)}\")"
   ]
  },
  {
   "cell_type": "code",
   "execution_count": 27,
   "id": "3900c715",
   "metadata": {},
   "outputs": [],
   "source": [
    "import numpy as np\n",
    "\n",
    "# Randomly assign a social profile to each transaction\n",
    "social_profiles_sampled = social_profiles_df.sample(n=len(transactions_df), replace=True).reset_index(drop=True)\n",
    "transactions = transactions_df.reset_index(drop=True)\n",
    "\n",
    "merged_data = pd.concat([transactions, social_profiles_sampled], axis=1)\n"
   ]
  },
  {
   "cell_type": "code",
   "execution_count": 28,
   "id": "a41de31c",
   "metadata": {},
   "outputs": [
    {
     "name": "stdout",
     "output_type": "stream",
     "text": [
      "   customer_id_legacy  transaction_id  purchase_amount purchase_date  \\\n",
      "0                 151            1001              408    2024-01-01   \n",
      "1                 192            1002              332    2024-01-02   \n",
      "2                 114            1003              442    2024-01-03   \n",
      "3                 171            1004              256    2024-01-04   \n",
      "4                 160            1005               64    2024-01-05   \n",
      "\n",
      "  product_category  customer_rating customer_id_new social_media_platform  \\\n",
      "0           Sports              2.3            A160              LinkedIn   \n",
      "1      Electronics              4.2            A185                TikTok   \n",
      "2      Electronics              2.1            A155             Instagram   \n",
      "3         Clothing              2.8            A131              LinkedIn   \n",
      "4         Clothing              1.3            A195              LinkedIn   \n",
      "\n",
      "   engagement_score  purchase_interest_score review_sentiment  \n",
      "0                73                      2.0          Neutral  \n",
      "1                90                      3.4          Neutral  \n",
      "2                84                      3.1         Positive  \n",
      "3                87                      3.0         Positive  \n",
      "4                84                      3.7          Neutral  \n"
     ]
    }
   ],
   "source": [
    "print(merged_data.head())"
   ]
  },
  {
   "cell_type": "code",
   "execution_count": 30,
   "id": "c21ccbb9",
   "metadata": {},
   "outputs": [
    {
     "name": "stdout",
     "output_type": "stream",
     "text": [
      "Merged dataset saved to data/merged_dataset.csv\n"
     ]
    }
   ],
   "source": [
    "# Save merged dataset\n",
    "merged_data.to_csv(\"../data/merged_dataset.csv\", index=False)\n",
    "print(\"Merged dataset saved to data/merged_dataset.csv\")"
   ]
  }
 ],
 "metadata": {
  "kernelspec": {
   "display_name": ".venv",
   "language": "python",
   "name": "python3"
  },
  "language_info": {
   "codemirror_mode": {
    "name": "ipython",
    "version": 3
   },
   "file_extension": ".py",
   "mimetype": "text/x-python",
   "name": "python",
   "nbconvert_exporter": "python",
   "pygments_lexer": "ipython3",
   "version": "3.12.2"
  }
 },
 "nbformat": 4,
 "nbformat_minor": 5
}
